{
  "cells": [
    {
      "cell_type": "markdown",
      "metadata": {
        "id": "0HPah-lRDzQ8"
      },
      "source": [
        "## Connect to Google Drive, Download Dataset, and Preprocess Data"
      ]
    },
    {
      "cell_type": "code",
      "execution_count": 1,
      "metadata": {
        "colab": {
          "base_uri": "https://localhost:8080/"
        },
        "id": "OPcm3AtJtM58",
        "outputId": "18ed5e51-15e6-4aa4-d0c3-e07f6d64be3d"
      },
      "outputs": [
        {
          "output_type": "stream",
          "name": "stdout",
          "text": [
            "Mounted at /content/drive\n"
          ]
        }
      ],
      "source": [
        "from google.colab import drive\n",
        "drive.mount('/content/drive')"
      ]
    },
    {
      "cell_type": "markdown",
      "metadata": {
        "id": "vYIl4rAhDzQ_"
      },
      "source": [
        "Install Required Library"
      ]
    },
    {
      "cell_type": "code",
      "execution_count": 2,
      "metadata": {
        "colab": {
          "base_uri": "https://localhost:8080/"
        },
        "id": "ew7Z-Lr0DzQ_",
        "outputId": "53e25cdf-12e0-4b0c-de58-46a148141ec5"
      },
      "outputs": [
        {
          "output_type": "stream",
          "name": "stdout",
          "text": [
            "Collecting opendatasets\n",
            "  Downloading opendatasets-0.1.22-py3-none-any.whl.metadata (9.2 kB)\n",
            "Requirement already satisfied: tqdm in /usr/local/lib/python3.12/dist-packages (from opendatasets) (4.67.1)\n",
            "Requirement already satisfied: kaggle in /usr/local/lib/python3.12/dist-packages (from opendatasets) (1.7.4.5)\n",
            "Requirement already satisfied: click in /usr/local/lib/python3.12/dist-packages (from opendatasets) (8.2.1)\n",
            "Requirement already satisfied: bleach in /usr/local/lib/python3.12/dist-packages (from kaggle->opendatasets) (6.2.0)\n",
            "Requirement already satisfied: certifi>=14.05.14 in /usr/local/lib/python3.12/dist-packages (from kaggle->opendatasets) (2025.8.3)\n",
            "Requirement already satisfied: charset-normalizer in /usr/local/lib/python3.12/dist-packages (from kaggle->opendatasets) (3.4.3)\n",
            "Requirement already satisfied: idna in /usr/local/lib/python3.12/dist-packages (from kaggle->opendatasets) (3.10)\n",
            "Requirement already satisfied: protobuf in /usr/local/lib/python3.12/dist-packages (from kaggle->opendatasets) (5.29.5)\n",
            "Requirement already satisfied: python-dateutil>=2.5.3 in /usr/local/lib/python3.12/dist-packages (from kaggle->opendatasets) (2.9.0.post0)\n",
            "Requirement already satisfied: python-slugify in /usr/local/lib/python3.12/dist-packages (from kaggle->opendatasets) (8.0.4)\n",
            "Requirement already satisfied: requests in /usr/local/lib/python3.12/dist-packages (from kaggle->opendatasets) (2.32.4)\n",
            "Requirement already satisfied: setuptools>=21.0.0 in /usr/local/lib/python3.12/dist-packages (from kaggle->opendatasets) (75.2.0)\n",
            "Requirement already satisfied: six>=1.10 in /usr/local/lib/python3.12/dist-packages (from kaggle->opendatasets) (1.17.0)\n",
            "Requirement already satisfied: text-unidecode in /usr/local/lib/python3.12/dist-packages (from kaggle->opendatasets) (1.3)\n",
            "Requirement already satisfied: urllib3>=1.15.1 in /usr/local/lib/python3.12/dist-packages (from kaggle->opendatasets) (2.5.0)\n",
            "Requirement already satisfied: webencodings in /usr/local/lib/python3.12/dist-packages (from kaggle->opendatasets) (0.5.1)\n",
            "Downloading opendatasets-0.1.22-py3-none-any.whl (15 kB)\n",
            "Installing collected packages: opendatasets\n",
            "Successfully installed opendatasets-0.1.22\n"
          ]
        }
      ],
      "source": [
        "pip install opendatasets\n"
      ]
    },
    {
      "cell_type": "code",
      "execution_count": 3,
      "metadata": {
        "colab": {
          "base_uri": "https://localhost:8080/"
        },
        "id": "TAev3tkeDzQ_",
        "outputId": "69a7b910-8fcb-42b4-b83f-95dee92eeca8"
      },
      "outputs": [
        {
          "output_type": "stream",
          "name": "stdout",
          "text": [
            "Requirement already satisfied: pandas in /usr/local/lib/python3.12/dist-packages (2.2.2)\n",
            "Requirement already satisfied: scikit-learn in /usr/local/lib/python3.12/dist-packages (1.6.1)\n",
            "Requirement already satisfied: opendatasets in /usr/local/lib/python3.12/dist-packages (0.1.22)\n",
            "Requirement already satisfied: numpy>=1.26.0 in /usr/local/lib/python3.12/dist-packages (from pandas) (2.0.2)\n",
            "Requirement already satisfied: python-dateutil>=2.8.2 in /usr/local/lib/python3.12/dist-packages (from pandas) (2.9.0.post0)\n",
            "Requirement already satisfied: pytz>=2020.1 in /usr/local/lib/python3.12/dist-packages (from pandas) (2025.2)\n",
            "Requirement already satisfied: tzdata>=2022.7 in /usr/local/lib/python3.12/dist-packages (from pandas) (2025.2)\n",
            "Requirement already satisfied: scipy>=1.6.0 in /usr/local/lib/python3.12/dist-packages (from scikit-learn) (1.16.1)\n",
            "Requirement already satisfied: joblib>=1.2.0 in /usr/local/lib/python3.12/dist-packages (from scikit-learn) (1.5.2)\n",
            "Requirement already satisfied: threadpoolctl>=3.1.0 in /usr/local/lib/python3.12/dist-packages (from scikit-learn) (3.6.0)\n",
            "Requirement already satisfied: tqdm in /usr/local/lib/python3.12/dist-packages (from opendatasets) (4.67.1)\n",
            "Requirement already satisfied: kaggle in /usr/local/lib/python3.12/dist-packages (from opendatasets) (1.7.4.5)\n",
            "Requirement already satisfied: click in /usr/local/lib/python3.12/dist-packages (from opendatasets) (8.2.1)\n",
            "Requirement already satisfied: six>=1.5 in /usr/local/lib/python3.12/dist-packages (from python-dateutil>=2.8.2->pandas) (1.17.0)\n",
            "Requirement already satisfied: bleach in /usr/local/lib/python3.12/dist-packages (from kaggle->opendatasets) (6.2.0)\n",
            "Requirement already satisfied: certifi>=14.05.14 in /usr/local/lib/python3.12/dist-packages (from kaggle->opendatasets) (2025.8.3)\n",
            "Requirement already satisfied: charset-normalizer in /usr/local/lib/python3.12/dist-packages (from kaggle->opendatasets) (3.4.3)\n",
            "Requirement already satisfied: idna in /usr/local/lib/python3.12/dist-packages (from kaggle->opendatasets) (3.10)\n",
            "Requirement already satisfied: protobuf in /usr/local/lib/python3.12/dist-packages (from kaggle->opendatasets) (5.29.5)\n",
            "Requirement already satisfied: python-slugify in /usr/local/lib/python3.12/dist-packages (from kaggle->opendatasets) (8.0.4)\n",
            "Requirement already satisfied: requests in /usr/local/lib/python3.12/dist-packages (from kaggle->opendatasets) (2.32.4)\n",
            "Requirement already satisfied: setuptools>=21.0.0 in /usr/local/lib/python3.12/dist-packages (from kaggle->opendatasets) (75.2.0)\n",
            "Requirement already satisfied: text-unidecode in /usr/local/lib/python3.12/dist-packages (from kaggle->opendatasets) (1.3)\n",
            "Requirement already satisfied: urllib3>=1.15.1 in /usr/local/lib/python3.12/dist-packages (from kaggle->opendatasets) (2.5.0)\n",
            "Requirement already satisfied: webencodings in /usr/local/lib/python3.12/dist-packages (from kaggle->opendatasets) (0.5.1)\n"
          ]
        }
      ],
      "source": [
        "pip install pandas scikit-learn opendatasets\n"
      ]
    },
    {
      "cell_type": "markdown",
      "metadata": {
        "id": "MlCztArhDzRA"
      },
      "source": [
        "Import Libraries"
      ]
    },
    {
      "cell_type": "code",
      "execution_count": 4,
      "metadata": {
        "id": "xoR18_84DzRA"
      },
      "outputs": [],
      "source": [
        "# --- All other imports after the installation ---\n",
        "import pandas as pd\n",
        "from sklearn.model_selection import train_test_split\n",
        "from sklearn.compose import ColumnTransformer\n",
        "from sklearn.preprocessing import OneHotEncoder, StandardScaler\n",
        "from sklearn.impute import SimpleImputer\n",
        "from sklearn.pipeline import Pipeline\n",
        "import opendatasets as od\n",
        "from google.colab import drive"
      ]
    },
    {
      "cell_type": "markdown",
      "metadata": {
        "id": "GDDhBuj9DzRA"
      },
      "source": [
        "Connect to Google Drive"
      ]
    },
    {
      "cell_type": "code",
      "execution_count": 5,
      "metadata": {
        "colab": {
          "base_uri": "https://localhost:8080/"
        },
        "id": "wA15ZxA1DzRA",
        "outputId": "7680a850-2301-4af7-adfc-8ef1c400a707"
      },
      "outputs": [
        {
          "output_type": "stream",
          "name": "stdout",
          "text": [
            "Drive already mounted at /content/drive; to attempt to forcibly remount, call drive.mount(\"/content/drive\", force_remount=True).\n",
            "Google Drive is mounted.\n"
          ]
        }
      ],
      "source": [
        "# ----------------- Step 1: Connect to Google Drive (Highly Recommended) -----------------\n",
        "# This is to ensure your files are saved and persist between sessions.\n",
        "drive.mount('/content/drive')\n",
        "print(\"Google Drive is mounted.\")\n"
      ]
    },
    {
      "cell_type": "markdown",
      "metadata": {
        "id": "YlrL-oC_DzRA"
      },
      "source": [
        "Download and Load Dataset"
      ]
    },
    {
      "cell_type": "code",
      "execution_count": 6,
      "metadata": {
        "colab": {
          "base_uri": "https://localhost:8080/"
        },
        "id": "BwwogYlMDzRA",
        "outputId": "8fa4e6b1-f167-4430-fd64-2a35637bf0c5"
      },
      "outputs": [
        {
          "output_type": "stream",
          "name": "stdout",
          "text": [
            "Please provide your Kaggle credentials to download this dataset. Learn more: http://bit.ly/kaggle-creds\n",
            "Your Kaggle username: sithuminikaushalya\n",
            "Your Kaggle Key: ··········\n",
            "Dataset URL: https://www.kaggle.com/datasets/laotse/credit-risk-dataset\n",
            "Downloading credit-risk-dataset.zip to ./credit-risk-dataset\n"
          ]
        },
        {
          "output_type": "stream",
          "name": "stderr",
          "text": [
            "100%|██████████| 368k/368k [00:00<00:00, 371MB/s]"
          ]
        },
        {
          "output_type": "stream",
          "name": "stdout",
          "text": [
            "\n"
          ]
        },
        {
          "output_type": "stream",
          "name": "stderr",
          "text": [
            "\n"
          ]
        }
      ],
      "source": [
        "# ----------------- Step 2: Download and Load the Dataset -----------------\n",
        "# You will need to upload your kaggle.json file to Colab when prompted.\n",
        "od.download(\"https://www.kaggle.com/datasets/laotse/credit-risk-dataset\")\n",
        "df = pd.read_csv(\"credit-risk-dataset/credit_risk_dataset.csv\")"
      ]
    },
    {
      "cell_type": "markdown",
      "metadata": {
        "id": "kMQLSOCdDzRA"
      },
      "source": [
        "Split Data (Phase 1)"
      ]
    },
    {
      "cell_type": "code",
      "execution_count": 7,
      "metadata": {
        "colab": {
          "base_uri": "https://localhost:8080/"
        },
        "id": "dI2h5EeGDzRA",
        "outputId": "40a3e6b0-a538-480d-cdb0-ef0e0e44f6e4"
      },
      "outputs": [
        {
          "output_type": "stream",
          "name": "stdout",
          "text": [
            "\n",
            "--- Data Split (Phase 1) ---\n",
            "Training set shape: (19548, 11)\n",
            "Validation set shape: (6516, 11)\n",
            "Holdout Test set shape: (6517, 11)\n"
          ]
        }
      ],
      "source": [
        "# ----------------- Step 3: Split the Data (Phase 1) -----------------\n",
        "X = df.drop('loan_status', axis=1)\n",
        "y = df['loan_status']\n",
        "\n",
        "# Split into a combined training/validation set and a holdout test set (80/20)\n",
        "X_train_val, X_holdout_test, y_train_val, y_holdout_test = train_test_split(\n",
        "    X, y, test_size=0.20, random_state=42, stratify=y\n",
        ")\n",
        "\n",
        "# Split the combined set into the final training and validation sets (60/20)\n",
        "X_train, X_val, y_train, y_val = train_test_split(\n",
        "    X_train_val, y_train_val, test_size=0.25, random_state=42, stratify=y_train_val\n",
        ")\n",
        "\n",
        "# Print shapes to verify\n",
        "print(\"\\n--- Data Split (Phase 1) ---\")\n",
        "print(\"Training set shape:\", X_train.shape)\n",
        "print(\"Validation set shape:\", X_val.shape)\n",
        "print(\"Holdout Test set shape:\", X_holdout_test.shape)"
      ]
    },
    {
      "cell_type": "markdown",
      "metadata": {
        "id": "K-imLGKIDzRB"
      },
      "source": [
        "Define Preprocessing Pipelines"
      ]
    },
    {
      "cell_type": "code",
      "execution_count": 8,
      "metadata": {
        "id": "8jaAgahODzRB"
      },
      "outputs": [],
      "source": [
        "# ----------------- Step 4: Data Preprocessing -----------------\n",
        "# Identify feature types\n",
        "categorical_features = ['person_home_ownership', 'loan_intent', 'loan_grade', 'cb_person_default_on_file']\n",
        "numerical_features = ['person_age', 'person_income', 'person_emp_length', 'loan_amnt',\n",
        "                      'loan_int_rate', 'loan_percent_income', 'cb_person_cred_hist_length']\n",
        "\n",
        "# Create preprocessing pipelines\n",
        "numerical_transformer = Pipeline(steps=[\n",
        "    ('imputer', SimpleImputer(strategy='mean')),\n",
        "    ('scaler', StandardScaler())\n",
        "])\n",
        "\n",
        "categorical_transformer = Pipeline(steps=[\n",
        "    ('imputer', SimpleImputer(strategy='constant', fill_value='missing')),\n",
        "    ('onehot', OneHotEncoder(handle_unknown='ignore'))\n",
        "])"
      ]
    },
    {
      "cell_type": "markdown",
      "metadata": {
        "id": "q7PhYzG4DzRB"
      },
      "source": [
        "Apply Preprocessing"
      ]
    },
    {
      "cell_type": "code",
      "execution_count": 9,
      "metadata": {
        "id": "w381H0DtDzRB"
      },
      "outputs": [],
      "source": [
        "# Combine pipelines using ColumnTransformer\n",
        "preprocessor = ColumnTransformer(\n",
        "    transformers=[\n",
        "        ('num', numerical_transformer, numerical_features),\n",
        "        ('cat', categorical_transformer, categorical_features)\n",
        "    ])\n",
        "\n",
        "# Fit and transform the data\n",
        "preprocessor.fit(X_train)\n",
        "X_train_processed = preprocessor.transform(X_train)\n",
        "X_val_processed = preprocessor.transform(X_val)\n"
      ]
    },
    {
      "cell_type": "markdown",
      "metadata": {
        "id": "b1SZrbqFDzRB"
      },
      "source": [
        "Convert Processed Data to DataFrame"
      ]
    },
    {
      "cell_type": "code",
      "execution_count": 10,
      "metadata": {
        "colab": {
          "base_uri": "https://localhost:8080/"
        },
        "id": "tz9o8rFCDzRB",
        "outputId": "e73f20b7-833e-41b8-c570-55cce31b79b9"
      },
      "outputs": [
        {
          "output_type": "stream",
          "name": "stdout",
          "text": [
            "\n",
            "--- Data Preprocessing Complete ---\n",
            "Shape of original training data: (19548, 11)\n",
            "Shape of processed training data: (19548, 26)\n",
            "Shape of original validation data: (6516, 11)\n",
            "Shape of processed validation data: (6516, 26)\n",
            "\n",
            "Sample of processed training data:\n",
            "   person_age  person_income  person_emp_length  loan_amnt  loan_int_rate  \\\n",
            "0   -0.746693      -0.180954          -0.193428  -0.690992       0.233009   \n",
            "1    1.959430       0.358602          -0.684495  -1.072589      -0.110709   \n",
            "2   -0.905876      -0.240905          -0.193428   0.072203      -1.563406   \n",
            "3    1.481879      -0.210930           3.980643   0.072203       0.233009   \n",
            "4   -0.269142      -0.091028           1.279774   0.072203       0.810197   \n",
            "\n",
            "   loan_percent_income  cb_person_cred_hist_length  \\\n",
            "0            -0.654891                   -0.939721   \n",
            "1            -1.306080                    2.046205   \n",
            "2             0.275379                   -0.690894   \n",
            "3             0.182352                    2.046205   \n",
            "4            -0.003702                   -0.690894   \n",
            "\n",
            "   person_home_ownership_MORTGAGE  person_home_ownership_OTHER  \\\n",
            "0                             0.0                          0.0   \n",
            "1                             1.0                          0.0   \n",
            "2                             0.0                          0.0   \n",
            "3                             0.0                          0.0   \n",
            "4                             0.0                          0.0   \n",
            "\n",
            "   person_home_ownership_OWN  ...  loan_intent_VENTURE  loan_grade_A  \\\n",
            "0                        0.0  ...                  0.0           0.0   \n",
            "1                        0.0  ...                  0.0           0.0   \n",
            "2                        0.0  ...                  0.0           1.0   \n",
            "3                        0.0  ...                  0.0           0.0   \n",
            "4                        0.0  ...                  0.0           0.0   \n",
            "\n",
            "   loan_grade_B  loan_grade_C  loan_grade_D  loan_grade_E  loan_grade_F  \\\n",
            "0           1.0           0.0           0.0           0.0           0.0   \n",
            "1           1.0           0.0           0.0           0.0           0.0   \n",
            "2           0.0           0.0           0.0           0.0           0.0   \n",
            "3           1.0           0.0           0.0           0.0           0.0   \n",
            "4           0.0           1.0           0.0           0.0           0.0   \n",
            "\n",
            "   loan_grade_G  cb_person_default_on_file_N  cb_person_default_on_file_Y  \n",
            "0           0.0                          1.0                          0.0  \n",
            "1           0.0                          1.0                          0.0  \n",
            "2           0.0                          1.0                          0.0  \n",
            "3           0.0                          1.0                          0.0  \n",
            "4           0.0                          1.0                          0.0  \n",
            "\n",
            "[5 rows x 26 columns]\n"
          ]
        }
      ],
      "source": [
        "# Convert processed data back to a DataFrame for readability and inspection\n",
        "onehot_feature_names = preprocessor.named_transformers_['cat']['onehot'].get_feature_names_out(categorical_features)\n",
        "processed_feature_names = numerical_features + list(onehot_feature_names)\n",
        "\n",
        "X_train_processed_df = pd.DataFrame(X_train_processed, columns=processed_feature_names)\n",
        "X_val_processed_df = pd.DataFrame(X_val_processed, columns=processed_feature_names)\n",
        "\n",
        "# Print final verification\n",
        "print(\"\\n--- Data Preprocessing Complete ---\")\n",
        "print(\"Shape of original training data:\", X_train.shape)\n",
        "print(\"Shape of processed training data:\", X_train_processed.shape)\n",
        "print(\"Shape of original validation data:\", X_val.shape)\n",
        "print(\"Shape of processed validation data:\", X_val_processed.shape)\n",
        "print(\"\\nSample of processed training data:\")\n",
        "print(X_train_processed_df.head())"
      ]
    },
    {
      "cell_type": "markdown",
      "metadata": {
        "id": "8Zjra6nMDzRB"
      },
      "source": [
        "## Train and Evaluate Logistic Regression & XGBoost Models"
      ]
    },
    {
      "cell_type": "markdown",
      "metadata": {
        "id": "aWKLeQo1DzRB"
      },
      "source": [
        "Import Libraries for Modeling & Evaluation"
      ]
    },
    {
      "cell_type": "code",
      "execution_count": 12,
      "metadata": {
        "id": "WwZpC8lYwYbz"
      },
      "outputs": [],
      "source": [
        "# Import necessary libraries for model training and evaluation\n",
        "from sklearn.linear_model import LogisticRegression\n",
        "from xgboost import XGBClassifier\n",
        "from sklearn.metrics import accuracy_score, precision_score, recall_score, f1_score, roc_auc_score, roc_curve, confusion_matrix\n",
        "import matplotlib.pyplot as plt\n",
        "import seaborn as sns"
      ]
    },
    {
      "cell_type": "markdown",
      "metadata": {
        "id": "GvpunhcUDzRC"
      },
      "source": [
        "Train Baseline Logistic Regression Model"
      ]
    },
    {
      "cell_type": "code",
      "execution_count": 13,
      "metadata": {
        "colab": {
          "base_uri": "https://localhost:8080/"
        },
        "id": "TYHWo20jDzRC",
        "outputId": "a376eb63-ef6e-4805-ec87-6922ab746b8f"
      },
      "outputs": [
        {
          "output_type": "stream",
          "name": "stdout",
          "text": [
            "--- Training Logistic Regression Model ---\n"
          ]
        }
      ],
      "source": [
        "# ----------------- Step 1: Train the Baseline Logistic Regression Model -----------------\n",
        "print(\"--- Training Logistic Regression Model ---\")\n",
        "\n",
        "# Initialize the Logistic Regression model\n",
        "# We set a random_state for reproducibility\n",
        "logreg_model = LogisticRegression(random_state=42, solver='liblinear')\n",
        "\n",
        "# Train the model on the preprocessed training data\n",
        "logreg_model.fit(X_train_processed, y_train)\n",
        "\n",
        "# Make predictions on the preprocessed validation data\n",
        "y_pred_logreg = logreg_model.predict(X_val_processed)\n",
        "\n",
        "# Get predicted probabilities for ROC AUC calculation\n",
        "y_pred_proba_logreg = logreg_model.predict_proba(X_val_processed)[:, 1]\n"
      ]
    },
    {
      "cell_type": "markdown",
      "metadata": {
        "id": "xtP0u1EHDzRC"
      },
      "source": [
        "Evaluate Logistic Regression Model"
      ]
    },
    {
      "cell_type": "code",
      "execution_count": 14,
      "metadata": {
        "colab": {
          "base_uri": "https://localhost:8080/"
        },
        "id": "3mApsf0gDzRC",
        "outputId": "37dd2ba3-db9a-4584-a710-9866cf710936"
      },
      "outputs": [
        {
          "output_type": "stream",
          "name": "stdout",
          "text": [
            "\n",
            "--- Evaluating Logistic Regression Model ---\n",
            "Accuracy: 0.8651\n",
            "Precision: 0.7652\n",
            "Recall: 0.5503\n",
            "F1-Score: 0.6402\n",
            "ROC AUC Score: 0.8657\n"
          ]
        }
      ],
      "source": [
        "# ----------------- Step 2: Evaluate the Logistic Regression Model -----------------\n",
        "print(\"\\n--- Evaluating Logistic Regression Model ---\")\n",
        "print(\"Accuracy: {:.4f}\".format(accuracy_score(y_val, y_pred_logreg)))\n",
        "print(\"Precision: {:.4f}\".format(precision_score(y_val, y_pred_logreg)))\n",
        "print(\"Recall: {:.4f}\".format(recall_score(y_val, y_pred_logreg)))\n",
        "print(\"F1-Score: {:.4f}\".format(f1_score(y_val, y_pred_logreg)))\n",
        "print(\"ROC AUC Score: {:.4f}\".format(roc_auc_score(y_val, y_pred_proba_logreg)))\n"
      ]
    },
    {
      "cell_type": "markdown",
      "metadata": {
        "id": "BctnVteDDzRC"
      },
      "source": [
        "Train XGBoost Model"
      ]
    },
    {
      "cell_type": "code",
      "execution_count": 15,
      "metadata": {
        "colab": {
          "base_uri": "https://localhost:8080/"
        },
        "id": "K_b34ygVDzRC",
        "outputId": "1b02b14c-581c-4108-c6c4-054b22782112"
      },
      "outputs": [
        {
          "output_type": "stream",
          "name": "stdout",
          "text": [
            "\n",
            "--- Training XGBoost Model ---\n"
          ]
        },
        {
          "output_type": "stream",
          "name": "stderr",
          "text": [
            "/usr/local/lib/python3.12/dist-packages/xgboost/training.py:183: UserWarning: [08:08:52] WARNING: /workspace/src/learner.cc:738: \n",
            "Parameters: { \"use_label_encoder\" } are not used.\n",
            "\n",
            "  bst.update(dtrain, iteration=i, fobj=obj)\n"
          ]
        }
      ],
      "source": [
        "# ----------------- Step 3: Train the Advanced XGBoost Model -----------------\n",
        "print(\"\\n--- Training XGBoost Model ---\")\n",
        "\n",
        "# Initialize the XGBoost Classifier\n",
        "# We set n_estimators and use the 'binary:logistic' objective for this task\n",
        "xgb_model = XGBClassifier(objective='binary:logistic', eval_metric='logloss', use_label_encoder=False, random_state=42)\n",
        "\n",
        "# Train the model on the preprocessed training data\n",
        "xgb_model.fit(X_train_processed, y_train)\n",
        "\n",
        "# Make predictions on the preprocessed validation data\n",
        "y_pred_xgb = xgb_model.predict(X_val_processed)\n",
        "\n",
        "# Get predicted probabilities for ROC AUC calculation\n",
        "y_pred_proba_xgb = xgb_model.predict_proba(X_val_processed)[:, 1]\n"
      ]
    },
    {
      "cell_type": "markdown",
      "metadata": {
        "id": "ZWqTpEHRDzRC"
      },
      "source": [
        "Evaluate XGBoost Model"
      ]
    },
    {
      "cell_type": "code",
      "execution_count": 16,
      "metadata": {
        "colab": {
          "base_uri": "https://localhost:8080/"
        },
        "id": "NuKUyxVwDzRC",
        "outputId": "7a3a68e3-3892-4c37-8bd7-e27ffea6dc7e"
      },
      "outputs": [
        {
          "output_type": "stream",
          "name": "stdout",
          "text": [
            "\n",
            "--- Evaluating XGBoost Model ---\n",
            "Accuracy: 0.9328\n",
            "Precision: 0.9513\n",
            "Recall: 0.7291\n",
            "F1-Score: 0.8255\n",
            "ROC AUC Score: 0.9440\n"
          ]
        }
      ],
      "source": [
        "# ----------------- Step 4: Evaluate the XGBoost Model -----------------\n",
        "print(\"\\n--- Evaluating XGBoost Model ---\")\n",
        "print(\"Accuracy: {:.4f}\".format(accuracy_score(y_val, y_pred_xgb)))\n",
        "print(\"Precision: {:.4f}\".format(precision_score(y_val, y_pred_xgb)))\n",
        "print(\"Recall: {:.4f}\".format(recall_score(y_val, y_pred_xgb)))\n",
        "print(\"F1-Score: {:.4f}\".format(f1_score(y_val, y_pred_xgb)))\n",
        "print(\"ROC AUC Score: {:.4f}\".format(roc_auc_score(y_val, y_pred_proba_xgb)))\n"
      ]
    },
    {
      "cell_type": "markdown",
      "metadata": {
        "id": "7cMkCx4mDzRC"
      },
      "source": [
        "Visualize Confusion Matrices"
      ]
    },
    {
      "cell_type": "code",
      "execution_count": 17,
      "metadata": {
        "colab": {
          "base_uri": "https://localhost:8080/",
          "height": 607
        },
        "id": "o9HTau8VDzRD",
        "outputId": "42ef9ccf-c968-4d2c-d9ac-0893339f706e"
      },
      "outputs": [
        {
          "output_type": "display_data",
          "data": {
            "text/plain": [
              "<Figure size 1400x600 with 4 Axes>"
            ],
            "image/png": "[encoded data removed]"
          },
          "metadata": {}
        }
      ],
      "source": [
        "# ----------------- Step 5: Visualize the Confusion Matrices -----------------\n",
        "fig, axes = plt.subplots(1, 2, figsize=(14, 6))\n",
        "\n",
        "# Confusion Matrix for Logistic Regression\n",
        "cm_logreg = confusion_matrix(y_val, y_pred_logreg)\n",
        "sns.heatmap(cm_logreg, annot=True, fmt='d', cmap='Blues', ax=axes[0])\n",
        "axes[0].set_title('Logistic Regression Confusion Matrix')\n",
        "axes[0].set_xlabel('Predicted Label')\n",
        "axes[0].set_ylabel('True Label')\n",
        "\n",
        "# Confusion Matrix for XGBoost\n",
        "cm_xgb = confusion_matrix(y_val, y_pred_xgb)\n",
        "sns.heatmap(cm_xgb, annot=True, fmt='d', cmap='Blues', ax=axes[1])\n",
        "axes[1].set_title('XGBoost Confusion Matrix')\n",
        "axes[1].set_xlabel('Predicted Label')\n",
        "axes[1].set_ylabel('True Label')\n",
        "\n",
        "plt.tight_layout()\n",
        "plt.show()\n"
      ]
    },
    {
      "cell_type": "markdown",
      "metadata": {
        "id": "9L1E_NZpDzRD"
      },
      "source": [
        "## Hyperparameter Tuning for XGBoost and Saving Models"
      ]
    },
    {
      "cell_type": "markdown",
      "metadata": {
        "id": "hLl9-WdHDzRD"
      },
      "source": [
        "Import Libraries for Hyperparameter Tuning & Saving Models"
      ]
    },
    {
      "cell_type": "code",
      "execution_count": 18,
      "metadata": {
        "id": "deYj2RTsDzRD"
      },
      "outputs": [],
      "source": [
        "# Import necessary libraries for hyperparameter tuning and saving models\n",
        "from sklearn.model_selection import GridSearchCV\n",
        "import joblib\n",
        "import os\n",
        "from google.colab import drive\n",
        "from xgboost import XGBClassifier\n"
      ]
    },
    {
      "cell_type": "markdown",
      "metadata": {
        "id": "zkrcxIrsDzRD"
      },
      "source": [
        "Define Hyperparameter Grid & Run GridSearchCV"
      ]
    },
    {
      "cell_type": "code",
      "execution_count": 19,
      "metadata": {
        "colab": {
          "base_uri": "https://localhost:8080/",
          "height": 269
        },
        "id": "j-JO4l9VDzRD",
        "outputId": "caef0d83-77fe-4444-d0bd-90d537e99eb5"
      },
      "outputs": [
        {
          "output_type": "stream",
          "name": "stdout",
          "text": [
            "--- Starting Hyperparameter Tuning for XGBoost ---\n",
            "Fitting 3 folds for each of 27 candidates, totalling 81 fits\n"
          ]
        },
        {
          "output_type": "stream",
          "name": "stderr",
          "text": [
            "/usr/local/lib/python3.12/dist-packages/xgboost/training.py:183: UserWarning: [08:09:28] WARNING: /workspace/src/learner.cc:738: \n",
            "Parameters: { \"use_label_encoder\" } are not used.\n",
            "\n",
            "  bst.update(dtrain, iteration=i, fobj=obj)\n"
          ]
        },
        {
          "output_type": "execute_result",
          "data": {
            "text/plain": [
              "GridSearchCV(cv=3,\n",
              "             estimator=XGBClassifier(base_score=None, booster=None,\n",
              "                                     callbacks=None, colsample_bylevel=None,\n",
              "                                     colsample_bynode=None,\n",
              "                                     colsample_bytree=None, device=None,\n",
              "                                     early_stopping_rounds=None,\n",
              "                                     enable_categorical=False,\n",
              "                                     eval_metric='logloss', feature_types=None,\n",
              "                                     feature_weights=None, gamma=None,\n",
              "                                     grow_policy=None, importance_type=None,\n",
              "                                     interaction_constraint...\n",
              "                                     max_cat_threshold=None,\n",
              "                                     max_cat_to_onehot=None,\n",
              "                                     max_delta_step=None, max_depth=None,\n",
              "                                     max_leaves=None, min_child_weight=None,\n",
              "                                     missing=nan, monotone_constraints=None,\n",
              "                                     multi_strategy=None, n_estimators=None,\n",
              "                                     n_jobs=None, num_parallel_tree=None, ...),\n",
              "             n_jobs=-1,\n",
              "             param_grid={'learning_rate': [0.05, 0.1, 0.2],\n",
              "                         'max_depth': [3, 4, 5],\n",
              "                         'n_estimators': [100, 200, 300]},\n",
              "             scoring='roc_auc', verbose=2)"
            ],
            "text/html": [
              "<style>#sk-container-id-1 {\n",
              "  /* Definition of color scheme common for light and dark mode */\n",
              "  --sklearn-color-text: #000;\n",
              "  --sklearn-color-text-muted: #666;\n",
              "  --sklearn-color-line: gray;\n",
              "  /* Definition of color scheme for unfitted estimators */\n",
              "  --sklearn-color-unfitted-level-0: #fff5e6;\n",
              "  --sklearn-color-unfitted-level-1: #f6e4d2;\n",
              "  --sklearn-color-unfitted-level-2: #ffe0b3;\n",
              "  --sklearn-color-unfitted-level-3: chocolate;\n",
              "  /* Definition of color scheme for fitted estimators */\n",
              "  --sklearn-color-fitted-level-0: #f0f8ff;\n",
              "  --sklearn-color-fitted-level-1: #d4ebff;\n",
              "  --sklearn-color-fitted-level-2: #b3dbfd;\n",
              "  --sklearn-color-fitted-level-3: cornflowerblue;\n",
              "\n",
              "  /* Specific color for light theme */\n",
              "  --sklearn-color-text-on-default-background: var(--sg-text-color, var(--theme-code-foreground, var(--jp-content-font-color1, black)));\n",
              "  --sklearn-color-background: var(--sg-background-color, var(--theme-background, var(--jp-layout-color0, white)));\n",
              "  --sklearn-color-border-box: var(--sg-text-color, var(--theme-code-foreground, var(--jp-content-font-color1, black)));\n",
              "  --sklearn-color-icon: #696969;\n",
              "\n",
              "  @media (prefers-color-scheme: dark) {\n",
              "    /* Redefinition of color scheme for dark theme */\n",
              "    --sklearn-color-text-on-default-background: var(--sg-text-color, var(--theme-code-foreground, var(--jp-content-font-color1, white)));\n",
              "    --sklearn-color-background: var(--sg-background-color, var(--theme-background, var(--jp-layout-color0, #111)));\n",
              "    --sklearn-color-border-box: var(--sg-text-color, var(--theme-code-foreground, var(--jp-content-font-color1, white)));\n",
              "    --sklearn-color-icon: #878787;\n",
              "  }\n",
              "}\n",
              "\n",
              "#sk-container-id-1 {\n",
              "  color: var(--sklearn-color-text);\n",
              "}\n",
              "\n",
              "#sk-container-id-1 pre {\n",
              "  padding: 0;\n",
              "}\n",
              "\n",
              "#sk-container-id-1 input.sk-hidden--visually {\n",
              "  border: 0;\n",
              "  clip: rect(1px 1px 1px 1px);\n",
              "  clip: rect(1px, 1px, 1px, 1px);\n",
              "  height: 1px;\n",
              "  margin: -1px;\n",
              "  overflow: hidden;\n",
              "  padding: 0;\n",
              "  position: absolute;\n",
              "  width: 1px;\n",
              "}\n",
              "\n",
              "#sk-container-id-1 div.sk-dashed-wrapped {\n",
              "  border: 1px dashed var(--sklearn-color-line);\n",
              "  margin: 0 0.4em 0.5em 0.4em;\n",
              "  box-sizing: border-box;\n",
              "  padding-bottom: 0.4em;\n",
              "  background-color: var(--sklearn-color-background);\n",
              "}\n",
              "\n",
              "#sk-container-id-1 div.sk-container {\n",
              "  /* jupyter's `normalize.less` sets `[hidden] { display: none; }`\n",
              "     but bootstrap.min.css set `[hidden] { display: none !important; }`\n",
              "     so we also need the `!important` here to be able to override the\n",
              "     default hidden behavior on the sphinx rendered scikit-learn.org.\n",
              "     See: https://github.com/scikit-learn/scikit-learn/issues/21755 */\n",
              "  display: inline-block !important;\n",
              "  position: relative;\n",
              "}\n",
              "\n",
              "#sk-container-id-1 div.sk-text-repr-fallback {\n",
              "  display: none;\n",
              "}\n",
              "\n",
              "div.sk-parallel-item,\n",
              "div.sk-serial,\n",
              "div.sk-item {\n",
              "  /* draw centered vertical line to link estimators */\n",
              "  background-image: linear-gradient(var(--sklearn-color-text-on-default-background), var(--sklearn-color-text-on-default-background));\n",
              "  background-size: 2px 100%;\n",
              "  background-repeat: no-repeat;\n",
              "  background-position: center center;\n",
              "}\n",
              "\n",
              "/* Parallel-specific style estimator block */\n",
              "\n",
              "#sk-container-id-1 div.sk-parallel-item::after {\n",
              "  content: \"\";\n",
              "  width: 100%;\n",
              "  border-bottom: 2px solid var(--sklearn-color-text-on-default-background);\n",
              "  flex-grow: 1;\n",
              "}\n",
              "\n",
              "#sk-container-id-1 div.sk-parallel {\n",
              "  display: flex;\n",
              "  align-items: stretch;\n",
              "  justify-content: center;\n",
              "  background-color: var(--sklearn-color-background);\n",
              "  position: relative;\n",
              "}\n",
              "\n",
              "#sk-container-id-1 div.sk-parallel-item {\n",
              "  display: flex;\n",
              "  flex-direction: column;\n",
              "}\n",
              "\n",
              "#sk-container-id-1 div.sk-parallel-item:first-child::after {\n",
              "  align-self: flex-end;\n",
              "  width: 50%;\n",
              "}\n",
              "\n",
              "#sk-container-id-1 div.sk-parallel-item:last-child::after {\n",
              "  align-self: flex-start;\n",
              "  width: 50%;\n",
              "}\n",
              "\n",
              "#sk-container-id-1 div.sk-parallel-item:only-child::after {\n",
              "  width: 0;\n",
              "}\n",
              "\n",
              "/* Serial-specific style estimator block */\n",
              "\n",
              "#sk-container-id-1 div.sk-serial {\n",
              "  display: flex;\n",
              "  flex-direction: column;\n",
              "  align-items: center;\n",
              "  background-color: var(--sklearn-color-background);\n",
              "  padding-right: 1em;\n",
              "  padding-left: 1em;\n",
              "}\n",
              "\n",
              "\n",
              "/* Toggleable style: style used for estimator/Pipeline/ColumnTransformer box that is\n",
              "clickable and can be expanded/collapsed.\n",
              "- Pipeline and ColumnTransformer use this feature and define the default style\n",
              "- Estimators will overwrite some part of the style using the `sk-estimator` class\n",
              "*/\n",
              "\n",
              "/* Pipeline and ColumnTransformer style (default) */\n",
              "\n",
              "#sk-container-id-1 div.sk-toggleable {\n",
              "  /* Default theme specific background. It is overwritten whether we have a\n",
              "  specific estimator or a Pipeline/ColumnTransformer */\n",
              "  background-color: var(--sklearn-color-background);\n",
              "}\n",
              "\n",
              "/* Toggleable label */\n",
              "#sk-container-id-1 label.sk-toggleable__label {\n",
              "  cursor: pointer;\n",
              "  display: flex;\n",
              "  width: 100%;\n",
              "  margin-bottom: 0;\n",
              "  padding: 0.5em;\n",
              "  box-sizing: border-box;\n",
              "  text-align: center;\n",
              "  align-items: start;\n",
              "  justify-content: space-between;\n",
              "  gap: 0.5em;\n",
              "}\n",
              "\n",
              "#sk-container-id-1 label.sk-toggleable__label .caption {\n",
              "  font-size: 0.6rem;\n",
              "  font-weight: lighter;\n",
              "  color: var(--sklearn-color-text-muted);\n",
              "}\n",
              "\n",
              "#sk-container-id-1 label.sk-toggleable__label-arrow:before {\n",
              "  /* Arrow on the left of the label */\n",
              "  content: \"▸\";\n",
              "  float: left;\n",
              "  margin-right: 0.25em;\n",
              "  color: var(--sklearn-color-icon);\n",
              "}\n",
              "\n",
              "#sk-container-id-1 label.sk-toggleable__label-arrow:hover:before {\n",
              "  color: var(--sklearn-color-text);\n",
              "}\n",
              "\n",
              "/* Toggleable content - dropdown */\n",
              "\n",
              "#sk-container-id-1 div.sk-toggleable__content {\n",
              "  max-height: 0;\n",
              "  max-width: 0;\n",
              "  overflow: hidden;\n",
              "  text-align: left;\n",
              "  /* unfitted */\n",
              "  background-color: var(--sklearn-color-unfitted-level-0);\n",
              "}\n",
              "\n",
              "#sk-container-id-1 div.sk-toggleable__content.fitted {\n",
              "  /* fitted */\n",
              "  background-color: var(--sklearn-color-fitted-level-0);\n",
              "}\n",
              "\n",
              "#sk-container-id-1 div.sk-toggleable__content pre {\n",
              "  margin: 0.2em;\n",
              "  border-radius: 0.25em;\n",
              "  color: var(--sklearn-color-text);\n",
              "  /* unfitted */\n",
              "  background-color: var(--sklearn-color-unfitted-level-0);\n",
              "}\n",
              "\n",
              "#sk-container-id-1 div.sk-toggleable__content.fitted pre {\n",
              "  /* unfitted */\n",
              "  background-color: var(--sklearn-color-fitted-level-0);\n",
              "}\n",
              "\n",
              "#sk-container-id-1 input.sk-toggleable__control:checked~div.sk-toggleable__content {\n",
              "  /* Expand drop-down */\n",
              "  max-height: 200px;\n",
              "  max-width: 100%;\n",
              "  overflow: auto;\n",
              "}\n",
              "\n",
              "#sk-container-id-1 input.sk-toggleable__control:checked~label.sk-toggleable__label-arrow:before {\n",
              "  content: \"▾\";\n",
              "}\n",
              "\n",
              "/* Pipeline/ColumnTransformer-specific style */\n",
              "\n",
              "#sk-container-id-1 div.sk-label input.sk-toggleable__control:checked~label.sk-toggleable__label {\n",
              "  color: var(--sklearn-color-text);\n",
              "  background-color: var(--sklearn-color-unfitted-level-2);\n",
              "}\n",
              "\n",
              "#sk-container-id-1 div.sk-label.fitted input.sk-toggleable__control:checked~label.sk-toggleable__label {\n",
              "  background-color: var(--sklearn-color-fitted-level-2);\n",
              "}\n",
              "\n",
              "/* Estimator-specific style */\n",
              "\n",
              "/* Colorize estimator box */\n",
              "#sk-container-id-1 div.sk-estimator input.sk-toggleable__control:checked~label.sk-toggleable__label {\n",
              "  /* unfitted */\n",
              "  background-color: var(--sklearn-color-unfitted-level-2);\n",
              "}\n",
              "\n",
              "#sk-container-id-1 div.sk-estimator.fitted input.sk-toggleable__control:checked~label.sk-toggleable__label {\n",
              "  /* fitted */\n",
              "  background-color: var(--sklearn-color-fitted-level-2);\n",
              "}\n",
              "\n",
              "#sk-container-id-1 div.sk-label label.sk-toggleable__label,\n",
              "#sk-container-id-1 div.sk-label label {\n",
              "  /* The background is the default theme color */\n",
              "  color: var(--sklearn-color-text-on-default-background);\n",
              "}\n",
              "\n",
              "/* On hover, darken the color of the background */\n",
              "#sk-container-id-1 div.sk-label:hover label.sk-toggleable__label {\n",
              "  color: var(--sklearn-color-text);\n",
              "  background-color: var(--sklearn-color-unfitted-level-2);\n",
              "}\n",
              "\n",
              "/* Label box, darken color on hover, fitted */\n",
              "#sk-container-id-1 div.sk-label.fitted:hover label.sk-toggleable__label.fitted {\n",
              "  color: var(--sklearn-color-text);\n",
              "  background-color: var(--sklearn-color-fitted-level-2);\n",
              "}\n",
              "\n",
              "/* Estimator label */\n",
              "\n",
              "#sk-container-id-1 div.sk-label label {\n",
              "  font-family: monospace;\n",
              "  font-weight: bold;\n",
              "  display: inline-block;\n",
              "  line-height: 1.2em;\n",
              "}\n",
              "\n",
              "#sk-container-id-1 div.sk-label-container {\n",
              "  text-align: center;\n",
              "}\n",
              "\n",
              "/* Estimator-specific */\n",
              "#sk-container-id-1 div.sk-estimator {\n",
              "  font-family: monospace;\n",
              "  border: 1px dotted var(--sklearn-color-border-box);\n",
              "  border-radius: 0.25em;\n",
              "  box-sizing: border-box;\n",
              "  margin-bottom: 0.5em;\n",
              "  /* unfitted */\n",
              "  background-color: var(--sklearn-color-unfitted-level-0);\n",
              "}\n",
              "\n",
              "#sk-container-id-1 div.sk-estimator.fitted {\n",
              "  /* fitted */\n",
              "  background-color: var(--sklearn-color-fitted-level-0);\n",
              "}\n",
              "\n",
              "/* on hover */\n",
              "#sk-container-id-1 div.sk-estimator:hover {\n",
              "  /* unfitted */\n",
              "  background-color: var(--sklearn-color-unfitted-level-2);\n",
              "}\n",
              "\n",
              "#sk-container-id-1 div.sk-estimator.fitted:hover {\n",
              "  /* fitted */\n",
              "  background-color: var(--sklearn-color-fitted-level-2);\n",
              "}\n",
              "\n",
              "/* Specification for estimator info (e.g. \"i\" and \"?\") */\n",
              "\n",
              "/* Common style for \"i\" and \"?\" */\n",
              "\n",
              ".sk-estimator-doc-link,\n",
              "a:link.sk-estimator-doc-link,\n",
              "a:visited.sk-estimator-doc-link {\n",
              "  float: right;\n",
              "  font-size: smaller;\n",
              "  line-height: 1em;\n",
              "  font-family: monospace;\n",
              "  background-color: var(--sklearn-color-background);\n",
              "  border-radius: 1em;\n",
              "  height: 1em;\n",
              "  width: 1em;\n",
              "  text-decoration: none !important;\n",
              "  margin-left: 0.5em;\n",
              "  text-align: center;\n",
              "  /* unfitted */\n",
              "  border: var(--sklearn-color-unfitted-level-1) 1pt solid;\n",
              "  color: var(--sklearn-color-unfitted-level-1);\n",
              "}\n",
              "\n",
              ".sk-estimator-doc-link.fitted,\n",
              "a:link.sk-estimator-doc-link.fitted,\n",
              "a:visited.sk-estimator-doc-link.fitted {\n",
              "  /* fitted */\n",
              "  border: var(--sklearn-color-fitted-level-1) 1pt solid;\n",
              "  color: var(--sklearn-color-fitted-level-1);\n",
              "}\n",
              "\n",
              "/* On hover */\n",
              "div.sk-estimator:hover .sk-estimator-doc-link:hover,\n",
              ".sk-estimator-doc-link:hover,\n",
              "div.sk-label-container:hover .sk-estimator-doc-link:hover,\n",
              ".sk-estimator-doc-link:hover {\n",
              "  /* unfitted */\n",
              "  background-color: var(--sklearn-color-unfitted-level-3);\n",
              "  color: var(--sklearn-color-background);\n",
              "  text-decoration: none;\n",
              "}\n",
              "\n",
              "div.sk-estimator.fitted:hover .sk-estimator-doc-link.fitted:hover,\n",
              ".sk-estimator-doc-link.fitted:hover,\n",
              "div.sk-label-container:hover .sk-estimator-doc-link.fitted:hover,\n",
              ".sk-estimator-doc-link.fitted:hover {\n",
              "  /* fitted */\n",
              "  background-color: var(--sklearn-color-fitted-level-3);\n",
              "  color: var(--sklearn-color-background);\n",
              "  text-decoration: none;\n",
              "}\n",
              "\n",
              "/* Span, style for the box shown on hovering the info icon */\n",
              ".sk-estimator-doc-link span {\n",
              "  display: none;\n",
              "  z-index: 9999;\n",
              "  position: relative;\n",
              "  font-weight: normal;\n",
              "  right: .2ex;\n",
              "  padding: .5ex;\n",
              "  margin: .5ex;\n",
              "  width: min-content;\n",
              "  min-width: 20ex;\n",
              "  max-width: 50ex;\n",
              "  color: var(--sklearn-color-text);\n",
              "  box-shadow: 2pt 2pt 4pt #999;\n",
              "  /* unfitted */\n",
              "  background: var(--sklearn-color-unfitted-level-0);\n",
              "  border: .5pt solid var(--sklearn-color-unfitted-level-3);\n",
              "}\n",
              "\n",
              ".sk-estimator-doc-link.fitted span {\n",
              "  /* fitted */\n",
              "  background: var(--sklearn-color-fitted-level-0);\n",
              "  border: var(--sklearn-color-fitted-level-3);\n",
              "}\n",
              "\n",
              ".sk-estimator-doc-link:hover span {\n",
              "  display: block;\n",
              "}\n",
              "\n",
              "/* \"?\"-specific style due to the `<a>` HTML tag */\n",
              "\n",
              "#sk-container-id-1 a.estimator_doc_link {\n",
              "  float: right;\n",
              "  font-size: 1rem;\n",
              "  line-height: 1em;\n",
              "  font-family: monospace;\n",
              "  background-color: var(--sklearn-color-background);\n",
              "  border-radius: 1rem;\n",
              "  height: 1rem;\n",
              "  width: 1rem;\n",
              "  text-decoration: none;\n",
              "  /* unfitted */\n",
              "  color: var(--sklearn-color-unfitted-level-1);\n",
              "  border: var(--sklearn-color-unfitted-level-1) 1pt solid;\n",
              "}\n",
              "\n",
              "#sk-container-id-1 a.estimator_doc_link.fitted {\n",
              "  /* fitted */\n",
              "  border: var(--sklearn-color-fitted-level-1) 1pt solid;\n",
              "  color: var(--sklearn-color-fitted-level-1);\n",
              "}\n",
              "\n",
              "/* On hover */\n",
              "#sk-container-id-1 a.estimator_doc_link:hover {\n",
              "  /* unfitted */\n",
              "  background-color: var(--sklearn-color-unfitted-level-3);\n",
              "  color: var(--sklearn-color-background);\n",
              "  text-decoration: none;\n",
              "}\n",
              "\n",
              "#sk-container-id-1 a.estimator_doc_link.fitted:hover {\n",
              "  /* fitted */\n",
              "  background-color: var(--sklearn-color-fitted-level-3);\n",
              "}\n",
              "</style><div id=\"sk-container-id-1\" class=\"sk-top-container\"><div class=\"sk-text-repr-fallback\"><pre>GridSearchCV(cv=3,\n",
              "             estimator=XGBClassifier(base_score=None, booster=None,\n",
              "                                     callbacks=None, colsample_bylevel=None,\n",
              "                                     colsample_bynode=None,\n",
              "                                     colsample_bytree=None, device=None,\n",
              "                                     early_stopping_rounds=None,\n",
              "                                     enable_categorical=False,\n",
              "                                     eval_metric=&#x27;logloss&#x27;, feature_types=None,\n",
              "                                     feature_weights=None, gamma=None,\n",
              "                                     grow_policy=None, importance_type=None,\n",
              "                                     interaction_constraint...\n",
              "                                     max_cat_threshold=None,\n",
              "                                     max_cat_to_onehot=None,\n",
              "                                     max_delta_step=None, max_depth=None,\n",
              "                                     max_leaves=None, min_child_weight=None,\n",
              "                                     missing=nan, monotone_constraints=None,\n",
              "                                     multi_strategy=None, n_estimators=None,\n",
              "                                     n_jobs=None, num_parallel_tree=None, ...),\n",
              "             n_jobs=-1,\n",
              "             param_grid={&#x27;learning_rate&#x27;: [0.05, 0.1, 0.2],\n",
              "                         &#x27;max_depth&#x27;: [3, 4, 5],\n",
              "                         &#x27;n_estimators&#x27;: [100, 200, 300]},\n",
              "             scoring=&#x27;roc_auc&#x27;, verbose=2)</pre><b>In a Jupyter environment, please rerun this cell to show the HTML representation or trust the notebook. <br />On GitHub, the HTML representation is unable to render, please try loading this page with nbviewer.org.</b></div><div class=\"sk-container\" hidden><div class=\"sk-item sk-dashed-wrapped\"><div class=\"sk-label-container\"><div class=\"sk-label fitted sk-toggleable\"><input class=\"sk-toggleable__control sk-hidden--visually\" id=\"sk-estimator-id-1\" type=\"checkbox\" ><label for=\"sk-estimator-id-1\" class=\"sk-toggleable__label fitted sk-toggleable__label-arrow\"><div><div>GridSearchCV</div></div><div><a class=\"sk-estimator-doc-link fitted\" rel=\"noreferrer\" target=\"_blank\" href=\"https://scikit-learn.org/1.6/modules/generated/sklearn.model_selection.GridSearchCV.html\">?<span>Documentation for GridSearchCV</span></a><span class=\"sk-estimator-doc-link fitted\">i<span>Fitted</span></span></div></label><div class=\"sk-toggleable__content fitted\"><pre>GridSearchCV(cv=3,\n",
              "             estimator=XGBClassifier(base_score=None, booster=None,\n",
              "                                     callbacks=None, colsample_bylevel=None,\n",
              "                                     colsample_bynode=None,\n",
              "                                     colsample_bytree=None, device=None,\n",
              "                                     early_stopping_rounds=None,\n",
              "                                     enable_categorical=False,\n",
              "                                     eval_metric=&#x27;logloss&#x27;, feature_types=None,\n",
              "                                     feature_weights=None, gamma=None,\n",
              "                                     grow_policy=None, importance_type=None,\n",
              "                                     interaction_constraint...\n",
              "                                     max_cat_threshold=None,\n",
              "                                     max_cat_to_onehot=None,\n",
              "                                     max_delta_step=None, max_depth=None,\n",
              "                                     max_leaves=None, min_child_weight=None,\n",
              "                                     missing=nan, monotone_constraints=None,\n",
              "                                     multi_strategy=None, n_estimators=None,\n",
              "                                     n_jobs=None, num_parallel_tree=None, ...),\n",
              "             n_jobs=-1,\n",
              "             param_grid={&#x27;learning_rate&#x27;: [0.05, 0.1, 0.2],\n",
              "                         &#x27;max_depth&#x27;: [3, 4, 5],\n",
              "                         &#x27;n_estimators&#x27;: [100, 200, 300]},\n",
              "             scoring=&#x27;roc_auc&#x27;, verbose=2)</pre></div> </div></div><div class=\"sk-parallel\"><div class=\"sk-parallel-item\"><div class=\"sk-item\"><div class=\"sk-label-container\"><div class=\"sk-label fitted sk-toggleable\"><input class=\"sk-toggleable__control sk-hidden--visually\" id=\"sk-estimator-id-2\" type=\"checkbox\" ><label for=\"sk-estimator-id-2\" class=\"sk-toggleable__label fitted sk-toggleable__label-arrow\"><div><div>best_estimator_: XGBClassifier</div></div></label><div class=\"sk-toggleable__content fitted\"><pre>XGBClassifier(base_score=None, booster=None, callbacks=None,\n",
              "              colsample_bylevel=None, colsample_bynode=None,\n",
              "              colsample_bytree=None, device=None, early_stopping_rounds=None,\n",
              "              enable_categorical=False, eval_metric=&#x27;logloss&#x27;,\n",
              "              feature_types=None, feature_weights=None, gamma=None,\n",
              "              grow_policy=None, importance_type=None,\n",
              "              interaction_constraints=None, learning_rate=0.1, max_bin=None,\n",
              "              max_cat_threshold=None, max_cat_to_onehot=None,\n",
              "              max_delta_step=None, max_depth=5, max_leaves=None,\n",
              "              min_child_weight=None, missing=nan, monotone_constraints=None,\n",
              "              multi_strategy=None, n_estimators=300, n_jobs=None,\n",
              "              num_parallel_tree=None, ...)</pre></div> </div></div><div class=\"sk-serial\"><div class=\"sk-item\"><div class=\"sk-estimator fitted sk-toggleable\"><input class=\"sk-toggleable__control sk-hidden--visually\" id=\"sk-estimator-id-3\" type=\"checkbox\" ><label for=\"sk-estimator-id-3\" class=\"sk-toggleable__label fitted sk-toggleable__label-arrow\"><div><div>XGBClassifier</div></div><div><a class=\"sk-estimator-doc-link fitted\" rel=\"noreferrer\" target=\"_blank\" href=\"https://xgboost.readthedocs.io/en/release_3.0.0/python/python_api.html#xgboost.XGBClassifier\">?<span>Documentation for XGBClassifier</span></a></div></label><div class=\"sk-toggleable__content fitted\"><pre>XGBClassifier(base_score=None, booster=None, callbacks=None,\n",
              "              colsample_bylevel=None, colsample_bynode=None,\n",
              "              colsample_bytree=None, device=None, early_stopping_rounds=None,\n",
              "              enable_categorical=False, eval_metric=&#x27;logloss&#x27;,\n",
              "              feature_types=None, feature_weights=None, gamma=None,\n",
              "              grow_policy=None, importance_type=None,\n",
              "              interaction_constraints=None, learning_rate=0.1, max_bin=None,\n",
              "              max_cat_threshold=None, max_cat_to_onehot=None,\n",
              "              max_delta_step=None, max_depth=5, max_leaves=None,\n",
              "              min_child_weight=None, missing=nan, monotone_constraints=None,\n",
              "              multi_strategy=None, n_estimators=300, n_jobs=None,\n",
              "              num_parallel_tree=None, ...)</pre></div> </div></div></div></div></div></div></div></div></div>"
            ]
          },
          "metadata": {},
          "execution_count": 19
        }
      ],
      "source": [
        "# ----------------- Step 1: Hyperparameter Tuning with GridSearchCV -----------------\n",
        "print(\"--- Starting Hyperparameter Tuning for XGBoost ---\")\n",
        "\n",
        "# Define the parameter grid to search\n",
        "param_grid = {\n",
        "    'n_estimators': [100, 200, 300],\n",
        "    'max_depth': [3, 4, 5],\n",
        "    'learning_rate': [0.05, 0.1, 0.2],\n",
        "}\n",
        "\n",
        "# Re-initialize the XGBoost Classifier\n",
        "xgb_model = XGBClassifier(objective='binary:logistic', eval_metric='logloss', use_label_encoder=False, random_state=42)\n",
        "\n",
        "# Initialize GridSearchCV\n",
        "grid_search = GridSearchCV(\n",
        "    estimator=xgb_model,\n",
        "    param_grid=param_grid,\n",
        "    scoring='roc_auc',\n",
        "    cv=3,\n",
        "    verbose=2,\n",
        "    n_jobs=-1\n",
        ")\n",
        "\n",
        "# Fit the grid search to the training data\n",
        "grid_search.fit(X_train_processed, y_train)\n"
      ]
    },
    {
      "cell_type": "markdown",
      "metadata": {
        "id": "LmSpSJn8DzRD"
      },
      "source": [
        "Get Best Parameters & Update Model"
      ]
    },
    {
      "cell_type": "code",
      "execution_count": 20,
      "metadata": {
        "colab": {
          "base_uri": "https://localhost:8080/"
        },
        "id": "l5wKyQgADzRD",
        "outputId": "19616e48-9db2-406b-f2a4-2ab383a86f25"
      },
      "outputs": [
        {
          "output_type": "stream",
          "name": "stdout",
          "text": [
            "\n",
            "--- Hyperparameter Tuning Complete ---\n",
            "Best parameters found:  {'learning_rate': 0.1, 'max_depth': 5, 'n_estimators': 300}\n",
            "Best ROC AUC score on cross-validation: 0.9433\n"
          ]
        }
      ],
      "source": [
        "# Get the best parameters and best score\n",
        "best_params = grid_search.best_params_\n",
        "best_score = grid_search.best_score_\n",
        "\n",
        "print(\"\\n--- Hyperparameter Tuning Complete ---\")\n",
        "print(\"Best parameters found: \", best_params)\n",
        "print(\"Best ROC AUC score on cross-validation: {:.4f}\".format(best_score))\n",
        "\n",
        "# Update the XGBoost model with the best parameters found\n",
        "final_xgb_model = grid_search.best_estimator_\n"
      ]
    },
    {
      "cell_type": "markdown",
      "metadata": {
        "id": "TEYs_dOaDzRN"
      },
      "source": [
        "Save Preprocessor & Final Model to Google Drive"
      ]
    },
    {
      "cell_type": "code",
      "execution_count": 21,
      "metadata": {
        "colab": {
          "base_uri": "https://localhost:8080/"
        },
        "id": "TsX-f6K8DzRN",
        "outputId": "a3b9a615-21de-4ae0-db51-618428363f7a"
      },
      "outputs": [
        {
          "output_type": "stream",
          "name": "stdout",
          "text": [
            "\n",
            "--- Saving the Preprocessor and Final Model ---\n",
            "Preprocessor saved to: /content/drive/MyDrive/my_project_artifacts/preprocessor.joblib\n",
            "Final model saved to: /content/drive/MyDrive/my_project_artifacts/final_xgb_model.joblib\n"
          ]
        }
      ],
      "source": [
        "# ----------------- Step 2: Save the Preprocessor and the Final Model -----------------\n",
        "print(\"\\n--- Saving the Preprocessor and Final Model ---\")\n",
        "\n",
        "# Define the path in your Google Drive to save the files\n",
        "save_path = '/content/drive/MyDrive/my_project_artifacts'\n",
        "os.makedirs(save_path, exist_ok=True)\n",
        "\n",
        "# Save the preprocessor pipeline\n",
        "preprocessor_filename = 'preprocessor.joblib'\n",
        "preprocessor_filepath = os.path.join(save_path, preprocessor_filename)\n",
        "joblib.dump(preprocessor, preprocessor_filepath)\n",
        "print(f\"Preprocessor saved to: {preprocessor_filepath}\")\n",
        "\n",
        "# Save the final, tuned XGBoost model\n",
        "model_filename = 'final_xgb_model.joblib'\n",
        "model_filepath = os.path.join(save_path, model_filename)\n",
        "joblib.dump(final_xgb_model, model_filepath)\n",
        "print(f\"Final model saved to: {model_filepath}\")\n"
      ]
    },
    {
      "cell_type": "markdown",
      "metadata": {
        "id": "-XTyHjKfDzRN"
      },
      "source": [
        "Verify Files Were Saved"
      ]
    },
    {
      "cell_type": "code",
      "execution_count": 22,
      "metadata": {
        "colab": {
          "base_uri": "https://localhost:8080/"
        },
        "id": "PlJNDFowDzRO",
        "outputId": "e3686789-388d-4c14-a687-21616c486264"
      },
      "outputs": [
        {
          "output_type": "stream",
          "name": "stdout",
          "text": [
            "\n",
            "--- Verifying Saved Files ---\n",
            "Files successfully saved to Google Drive.\n"
          ]
        }
      ],
      "source": [
        "# Optional: Verify the saved files exist\n",
        "print(\"\\n--- Verifying Saved Files ---\")\n",
        "if os.path.exists(preprocessor_filepath) and os.path.exists(model_filepath):\n",
        "    print(\"Files successfully saved to Google Drive.\")\n",
        "else:\n",
        "    print(\"Error: Files were not saved correctly.\")"
      ]
    },
    {
      "cell_type": "markdown",
      "metadata": {
        "id": "e3e2zqL9DzRO"
      },
      "source": [
        "## Load Saved Model & Preprocessor, Evaluate on Holdout Test Set"
      ]
    },
    {
      "cell_type": "markdown",
      "metadata": {
        "id": "gG7J1fe3DzRO"
      },
      "source": [
        "Import Libraries & Setup"
      ]
    },
    {
      "cell_type": "code",
      "execution_count": 23,
      "metadata": {
        "id": "WK6FKYm3DzRO"
      },
      "outputs": [],
      "source": [
        "# Import necessary libraries\n",
        "import pandas as pd\n",
        "import joblib\n",
        "import os\n",
        "from google.colab import drive\n",
        "from sklearn.metrics import accuracy_score, precision_score, recall_score, f1_score, roc_auc_score, confusion_matrix\n",
        "import matplotlib.pyplot as plt\n",
        "import seaborn as sns\n",
        "import numpy as np\n",
        "\n",
        "# --- Assuming you have the original data splits from Phase 1 ---\n",
        "# (df, X, y, X_holdout_test, y_holdout_test)\n"
      ]
    },
    {
      "cell_type": "markdown",
      "metadata": {
        "id": "xnAnIHyKDzRO"
      },
      "source": [
        "Load Saved Preprocessor & Final Model"
      ]
    },
    {
      "cell_type": "code",
      "execution_count": 24,
      "metadata": {
        "colab": {
          "base_uri": "https://localhost:8080/"
        },
        "id": "MX-4vFDGDzRO",
        "outputId": "349a74ad-e155-49eb-a737-d63ea2b3b8c1"
      },
      "outputs": [
        {
          "output_type": "stream",
          "name": "stdout",
          "text": [
            "--- Loading the saved preprocessor and final model from Google Drive ---\n",
            "Preprocessor loaded successfully.\n",
            "Final XGBoost model loaded successfully.\n"
          ]
        }
      ],
      "source": [
        "# ----------------- Step 1: Load the Saved Preprocessor and Final Model -----------------\n",
        "print(\"--- Loading the saved preprocessor and final model from Google Drive ---\")\n",
        "\n",
        "# Define the path where you saved the files\n",
        "load_path = '/content/drive/MyDrive/my_project_artifacts'\n",
        "preprocessor_filepath = os.path.join(load_path, 'preprocessor.joblib')\n",
        "model_filepath = os.path.join(load_path, 'final_xgb_model.joblib')\n",
        "\n",
        "# Check if the files exist before attempting to load\n",
        "if not os.path.exists(preprocessor_filepath) or not os.path.exists(model_filepath):\n",
        "    print(\"Error: Files not found. Please ensure the saving step was completed successfully.\")\n",
        "else:\n",
        "    # Load the preprocessor pipeline\n",
        "    preprocessor = joblib.load(preprocessor_filepath)\n",
        "    print(\"Preprocessor loaded successfully.\")\n",
        "\n",
        "    # Load the final, tuned XGBoost model\n",
        "    final_xgb_model = joblib.load(model_filepath)\n",
        "    print(\"Final XGBoost model loaded successfully.\")\n"
      ]
    },
    {
      "cell_type": "markdown",
      "metadata": {
        "id": "SffD3pw9DzRO"
      },
      "source": [
        "Preprocess Holdout Test Data & Predict"
      ]
    },
    {
      "cell_type": "code",
      "execution_count": 25,
      "metadata": {
        "colab": {
          "base_uri": "https://localhost:8080/"
        },
        "id": "gdVObQqMDzRO",
        "outputId": "64778a3d-c086-46d1-c17c-8294f5a0d1d1"
      },
      "outputs": [
        {
          "output_type": "stream",
          "name": "stdout",
          "text": [
            "\n",
            "--- Preprocessing the Holdout Test Set ---\n",
            "Holdout test data preprocessed successfully.\n",
            "\n",
            "--- Making final predictions and evaluating the model on the Holdout Test Set ---\n",
            "Final Model Performance on Holdout Test Set:\n",
            "Accuracy: 0.9348\n",
            "Precision: 0.9690\n",
            "Recall: 0.7243\n",
            "F1-Score: 0.8290\n",
            "ROC AUC Score: 0.9501\n"
          ]
        }
      ],
      "source": [
        "    # ----------------- Step 2: Preprocess the Holdout Test Data -----------------\n",
        "    print(\"\\n--- Preprocessing the Holdout Test Set ---\")\n",
        "\n",
        "    # Apply the loaded preprocessor to the raw holdout test data\n",
        "    # The preprocessor will handle scaling and one-hot encoding on this new data\n",
        "    X_test_processed = preprocessor.transform(X_holdout_test)\n",
        "    print(\"Holdout test data preprocessed successfully.\")\n",
        "\n",
        "    # ----------------- Step 3: Make Final Predictions and Evaluate -----------------\n",
        "    print(\"\\n--- Making final predictions and evaluating the model on the Holdout Test Set ---\")\n",
        "\n",
        "    # Make predictions on the preprocessed holdout test data\n",
        "    y_pred_final = final_xgb_model.predict(X_test_processed)\n",
        "    y_pred_proba_final = final_xgb_model.predict_proba(X_test_processed)[:, 1]\n",
        "\n",
        "    # Evaluate the final model's performance\n",
        "    print(\"Final Model Performance on Holdout Test Set:\")\n",
        "    print(\"Accuracy: {:.4f}\".format(accuracy_score(y_holdout_test, y_pred_final)))\n",
        "    print(\"Precision: {:.4f}\".format(precision_score(y_holdout_test, y_pred_final)))\n",
        "    print(\"Recall: {:.4f}\".format(recall_score(y_holdout_test, y_pred_final)))\n",
        "    print(\"F1-Score: {:.4f}\".format(f1_score(y_holdout_test, y_pred_final)))\n",
        "    print(\"ROC AUC Score: {:.4f}\".format(roc_auc_score(y_holdout_test, y_pred_proba_final)))\n"
      ]
    },
    {
      "cell_type": "markdown",
      "metadata": {
        "id": "jP-upkh4DzRO"
      },
      "source": [
        "Visualize Confusion Matrix"
      ]
    },
    {
      "cell_type": "code",
      "execution_count": 26,
      "metadata": {
        "colab": {
          "base_uri": "https://localhost:8080/",
          "height": 599
        },
        "id": "opjIveZPDzRO",
        "outputId": "a62d3f36-a3be-4659-85e9-4d8510b3faf0"
      },
      "outputs": [
        {
          "output_type": "stream",
          "name": "stdout",
          "text": [
            "\n",
            "--- Visualizing the Final Confusion Matrix ---\n"
          ]
        },
        {
          "output_type": "display_data",
          "data": {
            "text/plain": [
              "<Figure size 800x600 with 2 Axes>"
            ],
            "image/png": "[encoded data removed]"
          },
          "metadata": {}
        }
      ],
      "source": [
        "    # ----------------- Step 4: Visualize Final Confusion Matrix -----------------\n",
        "    print(\"\\n--- Visualizing the Final Confusion Matrix ---\")\n",
        "    cm_final = confusion_matrix(y_holdout_test, y_pred_final)\n",
        "\n",
        "    plt.figure(figsize=(8, 6))\n",
        "    sns.heatmap(cm_final, annot=True, fmt='d', cmap='Blues')\n",
        "    plt.title('Final XGBoost Confusion Matrix on Holdout Test Set')\n",
        "    plt.xlabel('Predicted Label')\n",
        "    plt.ylabel('True Label')\n",
        "    plt.show()\n"
      ]
    }
  ],
  "metadata": {
    "accelerator": "GPU",
    "colab": {
      "gpuType": "T4",
      "provenance": []
    },
    "kernelspec": {
      "display_name": "venv (3.12.4)",
      "language": "python",
      "name": "python3"
    },
    "language_info": {
      "codemirror_mode": {
        "name": "ipython",
        "version": 3
      },
      "file_extension": ".py",
      "mimetype": "text/x-python",
      "name": "python",
      "nbconvert_exporter": "python",
      "pygments_lexer": "ipython3",
      "version": "3.12.4"
    }
  },
  "nbformat": 4,
  "nbformat_minor": 0
}